{
  "metadata": {
    "kernelspec": {
      "name": "python",
      "display_name": "Python (Pyodide)",
      "language": "python"
    },
    "language_info": {
      "codemirror_mode": {
        "name": "python",
        "version": 3
      },
      "file_extension": ".py",
      "mimetype": "text/x-python",
      "name": "python",
      "nbconvert_exporter": "python",
      "pygments_lexer": "ipython3",
      "version": "3.8"
    }
  },
  "nbformat_minor": 4,
  "nbformat": 4,
  "cells": [
    {
      "cell_type": "markdown",
      "source": "Data Science Ecosytem",
      "metadata": {}
    },
    {
      "cell_type": "markdown",
      "source": "In this notebook, data science tools and ecosystems ar summarised.",
      "metadata": {}
    },
    {
      "cell_type": "markdown",
      "source": "Some of the popular languages that data scientist use are: \n1. Julia\n2. Python\n3. R language\n4. JavaScript ",
      "metadata": {}
    },
    {
      "cell_type": "markdown",
      "source": "Some of the commonly used libraries used by data scientist are:\n1. Pandas\n2. Numpy\n3. Matplotlib\n4. Scikit-learn\n5. Tensorflow",
      "metadata": {}
    },
    {
      "cell_type": "markdown",
      "source": "Data science tools:\n1. Oracle\n2. IBM database2\n3. Informatics\n4. Tableau",
      "metadata": {}
    },
    {
      "cell_type": "markdown",
      "source": "Below are thefew examples of evaluating arithmetic expressions in python.",
      "metadata": {}
    },
    {
      "cell_type": "code",
      "source": "#This is simple arithmetic expression to multiply then add integers.\n(3*4)+5",
      "metadata": {
        "trusted": true
      },
      "outputs": [
        {
          "execution_count": 1,
          "output_type": "execute_result",
          "data": {
            "text/plain": "17"
          },
          "metadata": {}
        }
      ],
      "execution_count": 1
    },
    {
      "cell_type": "code",
      "source": "#This will convert 200minutes into hours dividing by 60.\n200/60",
      "metadata": {
        "trusted": true
      },
      "outputs": [
        {
          "execution_count": 2,
          "output_type": "execute_result",
          "data": {
            "text/plain": "3.3333333333333335"
          },
          "metadata": {}
        }
      ],
      "execution_count": 2
    },
    {
      "cell_type": "markdown",
      "source": "Objectives:\n1. Python\n2. Scala\n3. C\n4. C++\n5. Java\n6. JavaScript\n7. Julia\n8. R",
      "metadata": {}
    },
    {
      "cell_type": "markdown",
      "source": "Author\nManini Parmar ",
      "metadata": {}
    }
  ]
}